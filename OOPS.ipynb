{
  "nbformat": 4,
  "nbformat_minor": 0,
  "metadata": {
    "colab": {
      "provenance": []
    },
    "kernelspec": {
      "name": "python3",
      "display_name": "Python 3"
    },
    "language_info": {
      "name": "python"
    }
  },
  "cells": [
    {
      "cell_type": "markdown",
      "source": [
        "1. What are the five key concepts of Object-Oriented Programming (OOP)?"
      ],
      "metadata": {
        "id": "4DGfTtHiown4"
      }
    },
    {
      "cell_type": "markdown",
      "source": [
        "1. Class: A class is a blueprint for creating objects. It defines the properties (data members) and behaviors (methods) that objects of that class will have.\n",
        "2. Object: An object is an instance of a class. It has its own state (values of its properties) and can perform actions (execute its methods).\n",
        "3. Inheritance: Inheritance is the ability of one class to inherit the properties and methods of another class. This allows for code reuse and the creation of hierarchical relationships between classes.\n",
        "4. Polymorphism: Polymorphism is the ability of objects of different types to be treated as if they were objects of the same type. This allows for more flexible and adaptable code.\n",
        "5. Encapsulation: Encapsulation is the bundling of data and methods that operate on that data within a single unit (a class). This helps to protect the data from unauthorized access and modification."
      ],
      "metadata": {
        "id": "8ACzPeEoo1dX"
      }
    },
    {
      "cell_type": "markdown",
      "source": [
        "2. Write a Python class for a `Car` with attributes for `make`, `model`, and `year`. Include a method to display\n",
        "the car's information."
      ],
      "metadata": {
        "id": "VaUHvUigpQxO"
      }
    },
    {
      "cell_type": "code",
      "source": [
        "class car:\n",
        "  def __init__(self,make,model,year):\n",
        "    self.make=make\n",
        "    self.model=model\n",
        "    self.year=year\n",
        "  def display(self):\n",
        "    print(f\"Make : {self.make}\")\n",
        "    print(f\"Model : {self.model}\")\n",
        "    print(f\"Year : {self.year}\")\n",
        "ob = car(\"Tata\",\"Nexon\",2022)\n",
        "ob.display()\n"
      ],
      "metadata": {
        "colab": {
          "base_uri": "https://localhost:8080/"
        },
        "id": "l6nuQ6cBpT7X",
        "outputId": "0b6c9777-75c7-451c-8238-f239908468a8"
      },
      "execution_count": 4,
      "outputs": [
        {
          "output_type": "stream",
          "name": "stdout",
          "text": [
            "Make : Tata\n",
            "Model : Nexon\n",
            "Year : 2022\n"
          ]
        }
      ]
    },
    {
      "cell_type": "markdown",
      "source": [
        "3. Explain the difference between instance methods and class methods. Provide an example of each"
      ],
      "metadata": {
        "id": "u3JCkzEqq0sg"
      }
    },
    {
      "cell_type": "markdown",
      "source": [
        "Instance methods are methods that are specific to an instance of a class. They can access and modify the instance's attributes. The first parameter of an instance method is always self, which refers to the instance itself.\n",
        "\n",
        "Class methods are methods that are specific to a class itself. They can access and modify the class's attributes, but they cannot access the attributes of an instance. The first parameter of a class method is always cls, which refers to the class itself."
      ],
      "metadata": {
        "id": "8s_Uipezq8Km"
      }
    },
    {
      "cell_type": "code",
      "source": [
        "class Car:\n",
        "    def __init__(self, make, model, year):\n",
        "        self.make = make\n",
        "        self.model = model\n",
        "        self.year = year\n",
        "\n",
        "    def display_info(self):\n",
        "        print(f\"Make: {self.make}\")\n",
        "        print(f\"Model: {self.model}\")\n",
        "        print(f\"Year: {self.year}\")\n",
        "\n",
        "    @classmethod\n",
        "    def from_string(cls, car_string):\n",
        "        make, model, year = car_string.split(',')\n",
        "        return cls(make, model, year)"
      ],
      "metadata": {
        "id": "fvysThaPrAX_"
      },
      "execution_count": 6,
      "outputs": []
    },
    {
      "cell_type": "markdown",
      "source": [
        "4. How does Python implement method overloading? Give an example."
      ],
      "metadata": {
        "id": "G9wdMC2-rRff"
      }
    },
    {
      "cell_type": "markdown",
      "source": [
        "Method overloading means creating various methods with the same name using different types or parameters. In this case, the method will perform multiple functionalities with the same name. Method overloading is one of the primary concepts in object-oriented programming in Python. Method overloading in Python can be accomplished by using variable-length arguments in the method. You can call a method with a different number of parameters if you create one with variables for the length of the arguments."
      ],
      "metadata": {
        "id": "9dUqanrWrlbv"
      }
    },
    {
      "cell_type": "code",
      "source": [
        "class Calc:\n",
        "\n",
        "   def add(self, *args):\n",
        "\n",
        "     result = 10\n",
        "\n",
        "     for parameter in args:\n",
        "\n",
        "        result += parameter\n",
        "\n",
        "        print(\"Result: {}\".format(result))\n",
        "\n",
        "n1 = Calc()\n",
        "\n",
        "n1.add(100, 200, 300)\n",
        "\n",
        "n1.add(100,200)"
      ],
      "metadata": {
        "colab": {
          "base_uri": "https://localhost:8080/"
        },
        "id": "pnCLLXwur-6A",
        "outputId": "f9190eb0-6914-4cb6-a83f-4e9f9364cdc5"
      },
      "execution_count": 8,
      "outputs": [
        {
          "output_type": "stream",
          "name": "stdout",
          "text": [
            "Result: 110\n",
            "Result: 310\n",
            "Result: 610\n",
            "Result: 110\n",
            "Result: 310\n"
          ]
        }
      ]
    },
    {
      "cell_type": "markdown",
      "source": [
        "5. What are the three types of access modifiers in Python? How are they denoted?"
      ],
      "metadata": {
        "id": "XpaPVgXtsHBm"
      }
    },
    {
      "cell_type": "markdown",
      "source": [
        "There are three types of access modifiers in Python:\n",
        "\n",
        "1. Public: Public members are accessible from anywhere in the program. They are not denoted by any specific keyword.\n",
        "2. Protected: Protected members are accessible within the class and its subclasses. They are denoted by a single underscore (_) before the name of the member.\n",
        "3. Private: Private members are accessible only within the class. They are denoted by a double underscore (__) before the name of the member."
      ],
      "metadata": {
        "id": "VruFFsrEsK3u"
      }
    },
    {
      "cell_type": "markdown",
      "source": [
        "6. Describe the five types of inheritance in Python. Provide a simple example of multiple inheritance."
      ],
      "metadata": {
        "id": "zts53x0vsfef"
      }
    },
    {
      "cell_type": "markdown",
      "source": [
        "There are five types of inheritance in Python:\n",
        "\n",
        "1. Single Inheritance: A class inherits from only one parent class.\n",
        "2. Multiple Inheritance: A class inherits from multiple parent classes.\n",
        "3. Multilevel Inheritance: A class inherits from a derived class.\n",
        "4. Hierarchical Inheritance: Multiple classes inherit from a single parent class.\n",
        "5. Hybrid Inheritance: A combination of multiple inheritance types."
      ],
      "metadata": {
        "id": "uYDOS1Q2shKv"
      }
    },
    {
      "cell_type": "code",
      "source": [
        "class Vehicle:\n",
        "    def __init__(self, name):\n",
        "        self.name = name\n",
        "\n",
        "    def move(self):\n",
        "        print(self.name + \" is moving.\")\n",
        "\n",
        "class FlyingVehicle:\n",
        "    def __init__(self, name):\n",
        "        self.name = name\n",
        "\n",
        "    def fly(self):\n",
        "        print(self.name + \" is flying.\")\n",
        "\n",
        "class Airplane(Vehicle, FlyingVehicle):\n",
        "    def __init__(self, name):\n",
        "        Vehicle.__init__(self, name)\n",
        "        FlyingVehicle.__init__(self, name)\n",
        "\n",
        "airplane = Airplane(\"Boeing 747\")\n",
        "airplane.move()\n",
        "airplane.fly()"
      ],
      "metadata": {
        "id": "s_chk2gas1Q3"
      },
      "execution_count": null,
      "outputs": []
    },
    {
      "cell_type": "markdown",
      "source": [
        "7. What is the Method Resolution Order (MRO) in Python? How can you retrieve it programmatically?"
      ],
      "metadata": {
        "id": "HTh37c_2xfQA"
      }
    },
    {
      "cell_type": "markdown",
      "source": [
        "Method Resolution Order (MRO) is the order in which Python looks for methods in a class hierarchy. It's especially important in multiple inheritance, where a class can inherit from multiple parent classes."
      ],
      "metadata": {
        "id": "o8_ALOcNxlkf"
      }
    },
    {
      "cell_type": "code",
      "source": [
        "class A:\n",
        "    def __init__(self):\n",
        "        print(\"A\")\n",
        "\n",
        "class B(A):\n",
        "    def __init__(self):\n",
        "        print(\"B\")\n",
        "\n",
        "class C(A):\n",
        "    def __init__(self):\n",
        "        print(\"C\")\n",
        "\n",
        "class D(B, C):\n",
        "    def __init__(self):\n",
        "        print(\"D\")\n",
        "\n",
        "print(D.mro())"
      ],
      "metadata": {
        "id": "LuycC-97xmiA"
      },
      "execution_count": null,
      "outputs": []
    },
    {
      "cell_type": "markdown",
      "source": [
        "8. Create an abstract base class `Shape` with an abstract method `area()`. Then create two subclasses\n",
        "`Circle` and `Rectangle` that implement the `area()` method."
      ],
      "metadata": {
        "id": "udWZnbY2xqWQ"
      }
    },
    {
      "cell_type": "code",
      "source": [
        "from abc import ABC, abstractmethod\n",
        "\n",
        "class Shape(ABC):\n",
        "    @abstractmethod\n",
        "    def area(self):\n",
        "        pass\n",
        "\n",
        "class Circle(Shape):\n",
        "    def __init__(self, radius):\n",
        "        self.radius = radius\n",
        "\n",
        "    def area(self):\n",
        "        return 3.14159 * self.radius **2\n",
        "\n",
        "class Rectangle(Shape):\n",
        "    def __init__(self, length, width):\n",
        "        self.length = length\n",
        "        self.width = width\n",
        "\n",
        "    def area(self):\n",
        "        return self.length * self.width\n",
        "\n",
        "circle = Circle(5)\n",
        "rectangle = Rectangle(4, 6)\n",
        "print(\"Area of circle:\", circle.area())\n",
        "print(\"Area of rectangle:\", rectangle.area())"
      ],
      "metadata": {
        "id": "JbPfnHXNxx64"
      },
      "execution_count": null,
      "outputs": []
    },
    {
      "cell_type": "markdown",
      "source": [
        "9. Demonstrate polymorphism by creating a function that can work with different shape objects to calculate\n",
        "and print their areas."
      ],
      "metadata": {
        "id": "0yRGC5dvybRY"
      }
    },
    {
      "cell_type": "code",
      "source": [
        "class Animal:\n",
        "    def __init__(self, name):\n",
        "        self.name = name\n",
        "\n",
        "    def make_sound(self):\n",
        "        pass\n",
        "\n",
        "class Dog(Animal):\n",
        "    def make_sound(self):\n",
        "        print(\"Woof!\")\n",
        "\n",
        "class Cat(Animal):\n",
        "    def make_sound(self):\n",
        "        print(\"Meow!\")\n",
        "\n",
        "def make_animal_sound(animal):\n",
        "    animal.make_sound()\n",
        "\n",
        "dog = Dog(\"Woof\")\n",
        "cat = Cat(\"Meow\")\n",
        "make_animal_sound(dog)\n",
        "make_animal_sound(cat)"
      ],
      "metadata": {
        "colab": {
          "base_uri": "https://localhost:8080/"
        },
        "id": "bZNSew1nycJg",
        "outputId": "19015f13-b907-4dde-e212-e91f1dcf5e58"
      },
      "execution_count": 9,
      "outputs": [
        {
          "output_type": "stream",
          "name": "stdout",
          "text": [
            "Woof!\n",
            "Meow!\n"
          ]
        }
      ]
    },
    {
      "cell_type": "markdown",
      "source": [
        "10. Implement encapsulation in a `BankAccount` class with private attributes for `balance` and\n",
        "`account_number`. Include methods for deposit, withdrawal, and balance inquiry."
      ],
      "metadata": {
        "id": "5og96EVOzK8A"
      }
    },
    {
      "cell_type": "code",
      "source": [
        "class BankAccount:\n",
        "    def __init__(self, account_number, initial_balance):\n",
        "        self.__account_number = account_number\n",
        "        self.__balance = initial_balance\n",
        "\n",
        "    def deposit(self, amount):\n",
        "        if amount > 0:\n",
        "            self.__balance += amount\n",
        "            print(f\"Deposited {amount} rupees. New balance: {self.__balance}\")\n",
        "        else:\n",
        "            print(\"Invalid deposit amount.\")\n",
        "\n",
        "    def withdraw(self, amount):\n",
        "        if amount > 0 and amount <= self.__balance:\n",
        "            self.__balance -= amount\n",
        "            print(f\"Withdrew {amount} rupees. New balance: {self.__balance}\")\n",
        "        elif amount > self.__balance:\n",
        "            print(\"Insufficient balance.\")\n",
        "        else:\n",
        "            print(\"Invalid withdrawal amount.\")\n",
        "\n",
        "    def check_balance(self):\n",
        "        print(f\"Your current balance is: {self.__balance} rupees\")\n",
        "\n",
        "\n",
        "account = BankAccount(\"12345\", 1000)\n",
        "\n",
        "account.deposit(500)\n",
        "\n",
        "account.withdraw(200)\n",
        "\n",
        "account.check_balance()"
      ],
      "metadata": {
        "id": "Y816IFXnzP7w"
      },
      "execution_count": null,
      "outputs": []
    },
    {
      "cell_type": "markdown",
      "source": [
        "11. Write a class that overrides the `__str__` and `__add__` magic methods. What will these methods allow\n",
        "you to do?"
      ],
      "metadata": {
        "id": "CfAHAhEQzsmQ"
      }
    },
    {
      "cell_type": "code",
      "source": [
        "class Person:\n",
        "    def __init__(self, name, age):\n",
        "        self.name = name\n",
        "        self.age = age\n",
        "\n",
        "    def __str__(self):\n",
        "        return f\"Name: {self.name}, Age: {self.age}\"\n",
        "\n",
        "    def __add__(self, other):\n",
        "        return self.age + other.age\n",
        "\n",
        "person1 = Person(\"Alice\", 25)\n",
        "person2 = Person(\"Bob\", 30)\n",
        "\n",
        "print(person1)\n",
        "\n",
        "total_age = person1 + person2\n",
        "print(total_age)\n",
        "#In this example, the __str__ method is overridden to provide a custom string representation of the Person object. This allows you to print the object in a more readable way. The __add__ method is overridden to define how two Person objects should be added together. In this case, it simply adds the ages of the two people.\n",
        "\n"
      ],
      "metadata": {
        "id": "BSGUsnmZzv2Q"
      },
      "execution_count": null,
      "outputs": []
    },
    {
      "cell_type": "markdown",
      "source": [
        "12. Create a decorator that measures and prints the execution time of a function."
      ],
      "metadata": {
        "id": "6o1jxf6a0HLg"
      }
    },
    {
      "cell_type": "code",
      "source": [
        "import time\n",
        "\n",
        "def measure_time(func):\n",
        "    def wrapper(*args, **kwargs):\n",
        "        start_time = time.time()\n",
        "        result = func(*args, **kwargs)\n",
        "        time.sleep(30)\n",
        "        end_time = time.time()\n",
        "        execution_time = end_time - start_time\n",
        "        print(f\"Function {func.__name__} took {execution_time:.4f} seconds to execute.\")\n",
        "        return result\n",
        "    return wrapper\n",
        "\n",
        "@measure_time\n",
        "def add_numbers(a, b):\n",
        "    return a + b\n",
        "\n",
        "result = add_numbers(10, 20)\n",
        "print(\"Result:\", result)"
      ],
      "metadata": {
        "colab": {
          "base_uri": "https://localhost:8080/"
        },
        "id": "YuorNHZu0LDA",
        "outputId": "c9abf5b8-e161-42f1-b795-a21d12fb1db0"
      },
      "execution_count": 13,
      "outputs": [
        {
          "output_type": "stream",
          "name": "stdout",
          "text": [
            "Function add_numbers took 30.0301 seconds to execute.\n",
            "Result: 30\n"
          ]
        }
      ]
    },
    {
      "cell_type": "markdown",
      "source": [
        "13. Explain the concept of the Diamond Problem in multiple inheritance. How does Python resolve it?\n",
        "\n",
        "\n"
      ],
      "metadata": {
        "id": "lfZ5BMLB03VP"
      }
    },
    {
      "cell_type": "markdown",
      "source": [
        "The Diamond Problem\n",
        "\n",
        "Imagine you have a class called Animal that has a method called make_sound(). Then, you have two classes, Dog and Cat, that inherit from Animal. Now, if you create a class called Husky that inherits from both Dog and Cat, you have a diamond shape in your inheritance diagram, hence the name \"Diamond Problem\".\n",
        "\n",
        "The problem arises when both Dog and Cat override the make_sound() method. When you create a Husky object and call the make_sound() method, which version should it inherit? The one from Dog or the one from Cat? This ambiguity is the Diamond Problem.\n",
        "\n",
        "Python's Solution: Method Resolution Order (MRO)\n",
        "\n",
        "Python uses a specific algorithm called Method Resolution Order (MRO) to determine the order in which methods are inherited. MRO ensures that there's a clear hierarchy and avoids ambiguity."
      ],
      "metadata": {
        "id": "AXy-OajY1B-4"
      }
    },
    {
      "cell_type": "markdown",
      "source": [
        "14. Write a class method that keeps track of the number of instances created from a class."
      ],
      "metadata": {
        "id": "iLRMtiCa1DBY"
      }
    },
    {
      "cell_type": "code",
      "source": [
        "class MyClass:\n",
        "    count = 0\n",
        "\n",
        "    def __init__(self):\n",
        "        MyClass.count += 1\n",
        "\n",
        "    @classmethod\n",
        "    def get_instance_count(cls):\n",
        "        return cls.count\n",
        "\n",
        "\n",
        "obj1 = MyClass()\n",
        "obj2 = MyClass()\n",
        "obj3 = MyClass()\n",
        "\n",
        "print(MyClass.get_instance_count())"
      ],
      "metadata": {
        "id": "nGmVVbbK1Oi4"
      },
      "execution_count": null,
      "outputs": []
    },
    {
      "cell_type": "markdown",
      "source": [
        "15. Implement a static method in a class that checks if a given year is a leap year.\n"
      ],
      "metadata": {
        "id": "hoKfJjHp1PtY"
      }
    },
    {
      "cell_type": "code",
      "source": [
        "class YearChecker:\n",
        "    @staticmethod\n",
        "    def is_leap_year(year):\n",
        "        if year % 4 == 0:\n",
        "            if year % 100 == 0:\n",
        "                if year % 400 == 0:\n",
        "                    return True\n",
        "                else:\n",
        "                    return False\n",
        "            else:\n",
        "                return True\n",
        "        else:\n",
        "            return False\n",
        "\n",
        "year = 2024\n",
        "if YearChecker.is_leap_year(year):\n",
        "    print(year, \"is a leap year.\")\n",
        "else:\n",
        "    print(year, \"is not a leap year.\")"
      ],
      "metadata": {
        "id": "H2szWOGX1T-p"
      },
      "execution_count": null,
      "outputs": []
    }
  ]
}